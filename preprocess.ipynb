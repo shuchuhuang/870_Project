{
 "cells": [
  {
   "cell_type": "code",
   "execution_count": 2,
   "id": "b8b6058f-1d56-4197-a416-5be2466af734",
   "metadata": {},
   "outputs": [],
   "source": [
    "# 读取json文件\n",
    "import pandas as pd\n",
    "from pandas import json_normalize\n",
    "\n",
    "# 读取 JSON 文件\n",
    "json_file = 'train.json'\n",
    "data_list = pd.read_json(json_file)\n",
    "\n",
    "# 检查数据类型\n",
    "if isinstance(data_list, pd.DataFrame):\n",
    "    # 将 DataFrame 转换为字典列表\n",
    "    data_list = data_list.to_dict(orient='records')\n",
    "else:\n",
    "    raise TypeError(\"Expected a DataFrame after reading JSON file.\")\n",
    "\n",
    "# 创建一个空列表，用于存储处理后的数据\n",
    "processed_data = []\n",
    "\n",
    "# 处理每一条记录\n",
    "for data in data_list:\n",
    "    profile = data['profile']\n",
    "    profile['label'] = data['label']  # 添加 label 到 profile 字典\n",
    "    processed_data.append(profile)\n",
    "\n",
    "# 创建一个 DataFrame\n",
    "df = pd.DataFrame(processed_data)\n",
    "\n",
    "# 原始数据里有些string后面带了一个空格，删掉\n",
    "df = df.apply(lambda x: x.str.strip() if x.dtype == 'object' else x)\n",
    "\n",
    "# 保存为 CSV 文件\n",
    "df.to_csv('train.csv', index=False)\n"
   ]
  },
  {
   "cell_type": "code",
   "execution_count": null,
   "id": "270c5574-5577-4b15-9aa8-9ed3db5251db",
   "metadata": {},
   "outputs": [],
   "source": []
  }
 ],
 "metadata": {
  "kernelspec": {
   "display_name": "Python 3 (ipykernel)",
   "language": "python",
   "name": "python3"
  },
  "language_info": {
   "codemirror_mode": {
    "name": "ipython",
    "version": 3
   },
   "file_extension": ".py",
   "mimetype": "text/x-python",
   "name": "python",
   "nbconvert_exporter": "python",
   "pygments_lexer": "ipython3",
   "version": "3.9.6"
  }
 },
 "nbformat": 4,
 "nbformat_minor": 5
}
