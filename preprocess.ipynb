{
 "cells": [
  {
   "cell_type": "code",
   "execution_count": 5,
   "id": "b8b6058f-1d56-4197-a416-5be2466af734",
   "metadata": {},
   "outputs": [],
   "source": [
    "import pandas as pd\n",
    "from pandas import json_normalize\n",
    "\n",
    "json_file = 'train.json'\n",
    "data_list = pd.read_json(json_file)\n",
    "\n",
    "if isinstance(data_list, pd.DataFrame):\n",
    "    data_list = data_list.to_dict(orient='records')\n",
    "else:\n",
    "    raise TypeError(\"Expected a DataFrame after reading JSON file.\")\n",
    "\n",
    "processed_data = []\n",
    "\n",
    "for data in data_list:\n",
    "    profile = data['profile']\n",
    "    profile['label'] = data['label']\n",
    "    profile['total_tweets'] = 0\n",
    "    tweet_list = data.get('tweet', [])\n",
    "    if tweet_list is not None:\n",
    "        profile['total_tweets'] = len(data['tweet'])\n",
    "    processed_data.append(profile)\n",
    "\n",
    "df = pd.DataFrame(processed_data)\n",
    "\n",
    "df = df.apply(lambda x: x.str.strip() if x.dtype == 'object' else x)\n",
    "\n",
    "df.to_csv('train.csv', index=False)\n"
   ]
  },
  {
   "cell_type": "code",
   "execution_count": null,
   "id": "270c5574-5577-4b15-9aa8-9ed3db5251db",
   "metadata": {},
   "outputs": [],
   "source": []
  }
 ],
 "metadata": {
  "kernelspec": {
   "display_name": "Python 3 (ipykernel)",
   "language": "python",
   "name": "python3"
  },
  "language_info": {
   "codemirror_mode": {
    "name": "ipython",
    "version": 3
   },
   "file_extension": ".py",
   "mimetype": "text/x-python",
   "name": "python",
   "nbconvert_exporter": "python",
   "pygments_lexer": "ipython3",
   "version": "3.9.6"
  }
 },
 "nbformat": 4,
 "nbformat_minor": 5
}
